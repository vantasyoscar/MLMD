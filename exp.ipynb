{
 "cells": [
  {
   "cell_type": "code",
   "execution_count": 1,
   "id": "d1482eed",
   "metadata": {},
   "outputs": [],
   "source": [
    "import numpy as np\n",
    "import sys\n",
    "import torch\n",
    "import torch.nn as nn\n",
    "sys.path.append('..')\n",
    "import MLMD"
   ]
  },
  {
   "cell_type": "markdown",
   "id": "ac8af1ba",
   "metadata": {},
   "source": [
    "读取XDATCAR文件，步长为2fs"
   ]
  },
  {
   "cell_type": "code",
   "execution_count": 2,
   "id": "00d119cb",
   "metadata": {},
   "outputs": [
    {
     "name": "stdout",
     "output_type": "stream",
     "text": [
      "Reading XDATCAR...\n",
      "F      : 32\n",
      "Li     : 30\n",
      "Loading XDATCAR...\n",
      "done\n"
     ]
    }
   ],
   "source": [
    "import os\n",
    "os.environ[\"KMP_DUPLICATE_LIB_OK\"]=\"TRUE\"\n",
    "LiF = MLMD.atom_io.loadfile(1,\"data/XDATCAR\")"
   ]
  },
  {
   "cell_type": "markdown",
   "id": "57294645",
   "metadata": {},
   "source": [
    "制作测试集"
   ]
  },
  {
   "cell_type": "code",
   "execution_count": 3,
   "id": "7fcb61f2",
   "metadata": {},
   "outputs": [],
   "source": [
    "train_data = np.array([np.array(np.append(LiF[\"F\"].position[i],LiF[\"Li\"].position[i])) for i in range(len(LiF[\"F\"].position))])"
   ]
  },
  {
   "cell_type": "code",
   "execution_count": 4,
   "id": "08e71ea6",
   "metadata": {},
   "outputs": [
    {
     "data": {
      "text/plain": [
       "array([ 0.00261522,  0.00183308, -0.01107296])"
      ]
     },
     "execution_count": 4,
     "metadata": {},
     "output_type": "execute_result"
    }
   ],
   "source": [
    "def diff(data):\n",
    "    #输入train data并差分\n",
    "    v = []\n",
    "    for i in range(1,len(data)):\n",
    "        v.append(data[i]-data[i-1])\n",
    "    return v\n",
    "v = diff(train_data)\n",
    "v[0].reshape(-1,3)[0]"
   ]
  },
  {
   "cell_type": "code",
   "execution_count": 5,
   "id": "2f18b1bc",
   "metadata": {},
   "outputs": [],
   "source": [
    "#print(train_data[1])"
   ]
  },
  {
   "cell_type": "markdown",
   "id": "b8a1a914",
   "metadata": {},
   "source": [
    "以第一帧制作临近表,并将后50帧的路径导入"
   ]
  },
  {
   "cell_type": "code",
   "execution_count": 6,
   "id": "a8cf85d1",
   "metadata": {},
   "outputs": [],
   "source": [
    "neighborlist = MLMD.neighbor_list.get_neighbor_atoms(train_data[0].reshape(-1,3),cutoff = 10,lattice = LiF[\"Li\"].lattice)\n",
    "neighbor_coord = []\n",
    "for i in range(1000):\n",
    "    neighboratom = MLMD.neighbor_list.get_coordinates_from_indices(train_data[i].reshape(-1,3),neighborlist)\n",
    "    for j ,k in enumerate(neighboratom):\n",
    "        #平移到中心           \n",
    "        vector_3d = np.tile(train_data[i].reshape(-1,3)[j],(k.shape[0],1))\n",
    "        if i == 0:\n",
    "            \n",
    "            neighbor_coord.append([k-vector_3d])\n",
    "        else:\n",
    "            neighbor_coord[j].append(k-vector_3d)"
   ]
  },
  {
   "cell_type": "code",
   "execution_count": 7,
   "id": "9e8df629",
   "metadata": {
    "scrolled": true
   },
   "outputs": [
    {
     "data": {
      "text/plain": [
       "array([-0.00654374,  0.00431697, -0.00705332])"
      ]
     },
     "execution_count": 7,
     "metadata": {},
     "output_type": "execute_result"
    }
   ],
   "source": [
    "v[299][:3]"
   ]
  },
  {
   "cell_type": "code",
   "execution_count": 8,
   "id": "211c3230",
   "metadata": {},
   "outputs": [
    {
     "name": "stdout",
     "output_type": "stream",
     "text": [
      "[1, 1, 1, 1, 1, 1, 1, 1, 1, 1, 1, 1, 1, 1, 1, 1, 1, 1, 1, 1, 1, 1, 1, 1, 1, 1, 1, 1, 1, 1, 1, 2, 2, 2, 2, 2, 2, 2, 2, 2, 2, 2, 2, 2, 2, 2, 2, 2, 2, 2, 2, 2, 2, 2, 2, 2, 2, 2, 2, 2, 2]\n"
     ]
    }
   ],
   "source": [
    "neighbor_atom_kind = []\n",
    "for i in neighborlist:\n",
    "    atom_kind_list = [1 if x <= 31 else 2 for x in i]\n",
    "    neighbor_atom_kind.append(atom_kind_list)\n",
    "print(neighbor_atom_kind[0])#1是F 2是Li"
   ]
  },
  {
   "cell_type": "markdown",
   "id": "5a887102",
   "metadata": {},
   "source": [
    "至此我们获得了一个名叫neighbor_coord的list，每一项为对应原子序数的临近原子50帧内的运动轨迹，如第0个原子:"
   ]
  },
  {
   "cell_type": "code",
   "execution_count": 9,
   "id": "d455cee3",
   "metadata": {
    "scrolled": true
   },
   "outputs": [],
   "source": [
    "#neighbor_coord[0][0]"
   ]
  },
  {
   "cell_type": "code",
   "execution_count": 10,
   "id": "16368db5",
   "metadata": {},
   "outputs": [
    {
     "name": "stdout",
     "output_type": "stream",
     "text": [
      "DNN_sym(\n",
      "  (activation): ReLU()\n",
      "  (embed1): Sequential(\n",
      "    (0): Linear(in_features=3, out_features=6, bias=True)\n",
      "    (1): ReLU()\n",
      "  )\n",
      "  (embed2): Sequential(\n",
      "    (0): Linear(in_features=3, out_features=6, bias=True)\n",
      "    (1): ReLU()\n",
      "  )\n",
      "  (embed12): Sequential(\n",
      "    (0): Linear(in_features=3, out_features=6, bias=True)\n",
      "    (1): ReLU()\n",
      "  )\n",
      "  (linear_layers): Sequential(\n",
      "    (0): Linear(in_features=18, out_features=64, bias=True)\n",
      "    (1): ReLU()\n",
      "    (2): Linear(in_features=64, out_features=32, bias=True)\n",
      "    (3): ReLU()\n",
      "    (4): Linear(in_features=32, out_features=8, bias=True)\n",
      "    (5): ReLU()\n",
      "  )\n",
      "  (output_layer): Linear(in_features=8, out_features=3, bias=True)\n",
      "  (output_acti): Sigmoid()\n",
      ")\n",
      "Epoch [50/300], Loss: 0.973889530\n",
      "Epoch [100/300], Loss: 1.206537008\n",
      "Epoch [150/300], Loss: 0.568844318\n",
      "Epoch [200/300], Loss: 2.706071854\n",
      "Epoch [250/300], Loss: 2.187553883\n",
      "Epoch [300/300], Loss: 1.989359617\n"
     ]
    },
    {
     "data": {
      "image/png": "[encoded data removed]",
      "text/plain": [
       "<Figure size 720x480 with 1 Axes>"
      ]
     },
     "metadata": {
      "needs_background": "light"
     },
     "output_type": "display_data"
    }
   ],
   "source": [
    "#模型的构建\n",
    "embed_layers = [6]\n",
    "linear_layers = [64,32,8]\n",
    "atom = 1\n",
    "atom_list = neighbor_atom_kind[0]\n",
    "device = torch.device(\"cuda\" if torch.cuda.is_available() else \"cpu\")\n",
    "\n",
    "model = MLMD.model2.DNN_sym(atom, atom_list, embed_layers, linear_layers).to(device)\n",
    "print(model)\n",
    "\n",
    "\n",
    "num_epochs = 300\n",
    "criterion = nn.MSELoss()\n",
    "optimizer = torch.optim.Adam(model.parameters(), lr = 0.001)\n",
    "loss_array = []   #draw picture\n",
    "\n",
    "# 训练第一个原子的临近行为\n",
    "for epoch in range(num_epochs):\n",
    "    # Get the input and target arrays\n",
    "    \n",
    "    input_array = torch.from_numpy(neighbor_coord[0][epoch]*100).float().to(device)\n",
    "    #print(input_array)\n",
    "    target_array = torch.from_numpy(v[epoch].reshape(-1,3)[0]*100).float().to(device)   #train_data+1 v不加\n",
    "    #print(epoch,input_array,target_array)\n",
    "    # Forward pass\n",
    "    output_array = model(input_array)\n",
    "\n",
    "    # Compute the loss\n",
    "    loss = criterion(output_array, target_array)\n",
    "\n",
    "    # Backward pass and optimization\n",
    "    optimizer.zero_grad()\n",
    "    loss.backward()\n",
    "    optimizer.step()\n",
    "\n",
    "    # Print the loss every 10 epochs\n",
    "    if (epoch+1) % 50 == 0:\n",
    "        print('Epoch [{}/{}], Loss: {:.9f}'.format(epoch+1, num_epochs, loss.item()))\n",
    "    loss_array.append(loss.item())\n",
    "\n",
    "import matplotlib.pyplot as plt\n",
    "plt.figure(dpi=120)\n",
    "plt.plot(loss_array)\n",
    "plt.yscale(\"log\")"
   ]
  },
  {
   "cell_type": "code",
   "execution_count": 11,
   "id": "781fea87",
   "metadata": {},
   "outputs": [
    {
     "name": "stdout",
     "output_type": "stream",
     "text": [
      "tensor([-0.6544,  0.4317, -0.7053], device='cuda:0') tensor([1., 1., 1.], device='cuda:0', grad_fn=<SigmoidBackward0>) tensor(1.9894, device='cuda:0', grad_fn=<MseLossBackward0>)\n"
     ]
    }
   ],
   "source": [
    "print(target_array,output_array,loss)#老是0或1 怎么会是呢"
   ]
  },
  {
   "cell_type": "code",
   "execution_count": 237,
   "id": "10d1600f",
   "metadata": {},
   "outputs": [
    {
     "data": {
      "image/png": "[encoded data removed]",
      "text/plain": [
       "<Figure size 720x480 with 1 Axes>"
      ]
     },
     "metadata": {
      "needs_background": "light"
     },
     "output_type": "display_data"
    }
   ],
   "source": [
    "import matplotlib.pyplot as plt\n",
    "plt.figure(dpi=120)\n",
    "plt.plot(loss_array)\n",
    "plt.yscale(\"log\")"
   ]
  },
  {
   "cell_type": "code",
   "execution_count": 30,
   "id": "4c446c1f",
   "metadata": {},
   "outputs": [
    {
     "name": "stdout",
     "output_type": "stream",
     "text": [
      "tensor([ 0.0034,  0.0043, -0.0069], device='cuda:0') tensor([7.7868e-07, 1.4028e-07, 6.0318e-07], device='cuda:0',\n",
      "       grad_fn=<SigmoidBackward0>)\n"
     ]
    }
   ],
   "source": []
  },
  {
   "cell_type": "markdown",
   "id": "b41f86db",
   "metadata": {},
   "source": [
    "用前一帧的路径去预测下一帧速度"
   ]
  },
  {
   "cell_type": "code",
   "execution_count": 7,
   "id": "ba7f532f",
   "metadata": {},
   "outputs": [],
   "source": [
    "fwd = 1"
   ]
  },
  {
   "cell_type": "code",
   "execution_count": 60,
   "id": "276e60ca",
   "metadata": {
    "scrolled": true
   },
   "outputs": [
    {
     "ename": "NameError",
     "evalue": "name 'fwd' is not defined",
     "output_type": "error",
     "traceback": [
      "\u001b[1;31m---------------------------------------------------------------------------\u001b[0m",
      "\u001b[1;31mNameError\u001b[0m                                 Traceback (most recent call last)",
      "Input \u001b[1;32mIn [60]\u001b[0m, in \u001b[0;36m<cell line: 15>\u001b[1;34m()\u001b[0m\n\u001b[0;32m     14\u001b[0m \u001b[38;5;66;03m# Train the model\u001b[39;00m\n\u001b[0;32m     15\u001b[0m \u001b[38;5;28;01mfor\u001b[39;00m epoch \u001b[38;5;129;01min\u001b[39;00m \u001b[38;5;28mrange\u001b[39m(num_epochs):\n\u001b[0;32m     16\u001b[0m     \u001b[38;5;66;03m# Get the input and target arrays\u001b[39;00m\n\u001b[1;32m---> 18\u001b[0m     input_array \u001b[38;5;241m=\u001b[39m torch\u001b[38;5;241m.\u001b[39mfrom_numpy(train_data[epoch:epoch\u001b[38;5;241m+\u001b[39m\u001b[43mfwd\u001b[49m]\u001b[38;5;241m.\u001b[39mreshape(\u001b[38;5;241m-\u001b[39m\u001b[38;5;241m1\u001b[39m))\u001b[38;5;241m.\u001b[39mfloat()\u001b[38;5;241m.\u001b[39mto(device)\n\u001b[0;32m     19\u001b[0m     target_array \u001b[38;5;241m=\u001b[39m torch\u001b[38;5;241m.\u001b[39mfrom_numpy(v[epoch\u001b[38;5;241m+\u001b[39mfwd\u001b[38;5;241m-\u001b[39m\u001b[38;5;241m1\u001b[39m]\u001b[38;5;241m.\u001b[39mreshape(\u001b[38;5;241m-\u001b[39m\u001b[38;5;241m1\u001b[39m))\u001b[38;5;241m.\u001b[39mfloat()\u001b[38;5;241m.\u001b[39mto(device)   \u001b[38;5;66;03m#train_data+1 v不加\u001b[39;00m\n\u001b[0;32m     20\u001b[0m     \u001b[38;5;66;03m#print(epoch,input_array,target_array)\u001b[39;00m\n\u001b[0;32m     21\u001b[0m     \u001b[38;5;66;03m# Forward pass\u001b[39;00m\n",
      "\u001b[1;31mNameError\u001b[0m: name 'fwd' is not defined"
     ]
    }
   ],
   "source": [
    "# Create a MyDNN instance\n",
    "device = torch.device(\"cuda\" if torch.cuda.is_available() else \"cpu\")\n",
    "\n",
    "model = MLMD.model.MyDNN(1).to(device)\n",
    "\n",
    "num_epochs = 1000\n",
    "\n",
    "# Define the loss function and optimizer\n",
    "criterion = nn.MSELoss()\n",
    "optimizer = torch.optim.Adam(model.parameters(), lr=0.0001)\n",
    "\n",
    "loss_array = []   #draw picture\n",
    "\n",
    "# Train the model\n",
    "for epoch in range(num_epochs):\n",
    "    # Get the input and target arrays\n",
    "    \n",
    "    input_array = torch.from_numpy(train_data[epoch:epoch+fwd].reshape(-1)).float().to(device)\n",
    "    target_array = torch.from_numpy(v[epoch+fwd-1].reshape(-1)).float().to(device)   #train_data+1 v不加\n",
    "    #print(epoch,input_array,target_array)\n",
    "    # Forward pass\n",
    "    output_array = model(input_array)\n",
    "\n",
    "    # Compute the loss\n",
    "    loss = criterion(output_array, target_array)\n",
    "\n",
    "    # Backward pass and optimization\n",
    "    optimizer.zero_grad()\n",
    "    loss.backward()\n",
    "    optimizer.step()\n",
    "\n",
    "    # Print the loss every 10 epochs\n",
    "    if (epoch+1) % 50 == 0:\n",
    "        print('Epoch [{}/{}], Loss: {:.9f}'.format(epoch+1, num_epochs, loss.item()))\n",
    "    loss_array.append(loss.item())\n",
    "\n"
   ]
  },
  {
   "cell_type": "code",
   "execution_count": 10,
   "id": "5991244b",
   "metadata": {},
   "outputs": [
    {
     "data": {
      "image/png": "[encoded data removed]",
      "text/plain": [
       "<Figure size 720x480 with 1 Axes>"
      ]
     },
     "metadata": {
      "needs_background": "light"
     },
     "output_type": "display_data"
    }
   ],
   "source": [
    "import matplotlib.pyplot as plt\n",
    "import os\n",
    "\n",
    "\n",
    "plt.figure(dpi=120)\n",
    "plt.plot(loss_array)\n",
    "plt.yscale(\"log\")"
   ]
  },
  {
   "cell_type": "markdown",
   "id": "bfe6975b",
   "metadata": {},
   "source": [
    "# 把最后一帧的速度作为输出和目标进行一个对比"
   ]
  },
  {
   "cell_type": "code",
   "execution_count": 9,
   "id": "a6d95dd6",
   "metadata": {},
   "outputs": [],
   "source": [
    "#\n",
    "#print(output_array)\n",
    "#print(target_array)\n",
    "#print(criterion(output_array, target_array))"
   ]
  },
  {
   "cell_type": "markdown",
   "id": "ddd0b3bc",
   "metadata": {},
   "source": [
    "用frame的前五帧预测下一帧"
   ]
  },
  {
   "cell_type": "code",
   "execution_count": 9,
   "id": "4190fbfd",
   "metadata": {},
   "outputs": [],
   "source": [
    "# Get the input array for prediction\n",
    "frame = 200\n",
    "input_array = torch.from_numpy(train_data[frame-1:frame].reshape(-1)).float().to(device)\n",
    "\n",
    "# Predict the output array\n",
    "with torch.no_grad():\n",
    "    output_array = model(input_array)\n",
    "\n",
    "# Convert the output tensor to a numpy array\n",
    "output_array = output_array.cpu().numpy() + train_data[frame-1:frame].reshape(-1)"
   ]
  },
  {
   "cell_type": "code",
   "execution_count": 144,
   "id": "9d1eae75",
   "metadata": {},
   "outputs": [],
   "source": [
    "#print(output_array.reshape(-1,3))"
   ]
  },
  {
   "cell_type": "code",
   "execution_count": 145,
   "id": "888c93ca",
   "metadata": {},
   "outputs": [],
   "source": [
    "import ase\n",
    "from ase.io import read ,write\n",
    "from ase.build import sort\n",
    "from ase.visualize import view"
   ]
  },
  {
   "cell_type": "markdown",
   "id": "36080d6c",
   "metadata": {},
   "source": [
    "# 将某一帧写出"
   ]
  },
  {
   "cell_type": "code",
   "execution_count": 12,
   "id": "536bbddd",
   "metadata": {},
   "outputs": [
    {
     "data": {
      "text/plain": [
       "'with open(\\'LiF.vasp\\', \\'w\\') as f:\\n    f.write(\"vasp\\n\")\\n    f.write(\"1.0\\n\")\\n    for i in (LiF[\"F\"].lattice):\\n        f.write(str(i)[1:-1]+\"\\n\")\\n    for (i,j) in LiF.items():\\n        f.write(j.name + \" \")\\n    f.write(\"\\n\")\\n    for (i,j) in LiF.items():\\n        f.write(str(j.number) + \" \")\\n    f.write(\"\\n\")\\n    f.write(\"Direct\\n\")\\n    for i in output_array.reshape(-1,3):\\n        f.write(str(i)[1:-1]+\"\\n\")\\nbulk = read(\"LiF.vasp\")\\nview(bulk)'"
      ]
     },
     "execution_count": 12,
     "metadata": {},
     "output_type": "execute_result"
    }
   ],
   "source": [
    "\"\"\"with open('LiF.vasp', 'w') as f:\n",
    "    f.write(\"vasp\\n\")\n",
    "    f.write(\"1.0\\n\")\n",
    "    for i in (LiF[\"F\"].lattice):\n",
    "        f.write(str(i)[1:-1]+\"\\n\")\n",
    "    for (i,j) in LiF.items():\n",
    "        f.write(j.name + \" \")\n",
    "    f.write(\"\\n\")\n",
    "    for (i,j) in LiF.items():\n",
    "        f.write(str(j.number) + \" \")\n",
    "    f.write(\"\\n\")\n",
    "    f.write(\"Direct\\n\")\n",
    "    for i in output_array.reshape(-1,3):\n",
    "        f.write(str(i)[1:-1]+\"\\n\")\n",
    "bulk = read(\"LiF.vasp\")\n",
    "view(bulk)\"\"\""
   ]
  },
  {
   "cell_type": "code",
   "execution_count": null,
   "id": "d30aab7e",
   "metadata": {},
   "outputs": [],
   "source": []
  },
  {
   "cell_type": "markdown",
   "id": "eff207d3",
   "metadata": {},
   "source": [
    "# 跑100步写成xdatcar00"
   ]
  },
  {
   "cell_type": "code",
   "execution_count": 13,
   "id": "b65a4833",
   "metadata": {},
   "outputs": [],
   "source": [
    "running_test = []\n",
    "running_test.append(train_data[1000].tolist())"
   ]
  },
  {
   "cell_type": "code",
   "execution_count": 16,
   "id": "ced55be4",
   "metadata": {},
   "outputs": [],
   "source": [
    "#def pbc_res(frame):\n",
    "#    #在更新位置时考虑周期性边界条件\n",
    "#    frame[frame < 0] += 1\n",
    "#    frame[frame > 1] -= 1\n",
    "#    return np.array(frame)\n",
    "\n",
    "for i in range(100):\n",
    "    input_array = torch.from_numpy(np.array(running_test[-1]).reshape(-1)).float().to(device)\n",
    "    with torch.no_grad():\n",
    "        output_array = model(input_array)\n",
    "    running_test.append(output_array.cpu().numpy() + np.array(running_test[-1]).reshape(-1))\n",
    "with open('XDATCAR00', 'w') as f:\n",
    "    f.write(\"vasp\\n\")\n",
    "    f.write(\"1.0\\n\")\n",
    "    for i in (LiF[\"F\"].lattice):\n",
    "        f.write(str(i)[1:-1]+\"\\n\")\n",
    "    for (i,j) in LiF.items():\n",
    "        f.write(j.name + \" \")\n",
    "    f.write(\"\\n\")\n",
    "    for (i,j) in LiF.items():\n",
    "        f.write(str(j.number) + \" \")\n",
    "    f.write(\"\\n\")\n",
    "    for i in range(len(running_test)):\n",
    "        f.write(\"Direct configuration=       \"+str(i+1)+\"\\n\")\n",
    "        for j in np.array(running_test[i]).reshape(-1,3):\n",
    "            f.write(str(j)[1:-1]+\"\\n\")    "
   ]
  },
  {
   "cell_type": "code",
   "execution_count": null,
   "id": "7fa98878",
   "metadata": {},
   "outputs": [],
   "source": []
  }
 ],
 "metadata": {
  "kernelspec": {
   "display_name": "Python 3 (ipykernel)",
   "language": "python",
   "name": "python3"
  },
  "language_info": {
   "codemirror_mode": {
    "name": "ipython",
    "version": 3
   },
   "file_extension": ".py",
   "mimetype": "text/x-python",
   "name": "python",
   "nbconvert_exporter": "python",
   "pygments_lexer": "ipython3",
   "version": "3.9.12"
  }
 },
 "nbformat": 4,
 "nbformat_minor": 5
}
